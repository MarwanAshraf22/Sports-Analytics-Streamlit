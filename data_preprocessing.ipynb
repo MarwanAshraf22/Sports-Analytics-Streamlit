{
 "cells": [
  {
   "cell_type": "code",
   "execution_count": null,
   "metadata": {},
   "outputs": [],
   "source": [
    "import pandas as pd\n",
    "import numpy as np\n",
    "import warnings\n",
    "warnings.simplefilter(\"ignore\")"
   ]
  },
  {
   "cell_type": "code",
   "execution_count": null,
   "metadata": {},
   "outputs": [],
   "source": [
    "files = {\n",
    "    \"calendar\": \"data/calendar.csv\",\n",
    "    \"gps_data\": \"data/gps-data.csv\",\n",
    "    \"roster\": \"data/roster.csv\",\n",
    "    \"wellness\": \"data/wellness.csv\"\n",
    "}"
   ]
  },
  {
   "cell_type": "code",
   "execution_count": null,
   "metadata": {},
   "outputs": [],
   "source": [
    "calendar_df = pd.read_csv('data/calendar.csv')\n",
    "gps_data_df = pd.read_csv('data/gps-data.csv')\n",
    "roster_df = pd.read_csv('data/roster.csv')\n",
    "wellness_df = pd.read_csv('data/wellness.csv')"
   ]
  },
  {
   "cell_type": "code",
   "execution_count": null,
   "metadata": {},
   "outputs": [],
   "source": [
    "calendar_df.head()"
   ]
  },
  {
   "cell_type": "code",
   "execution_count": null,
   "metadata": {},
   "outputs": [],
   "source": [
    "def clean_data(df):\n",
    "    # Drop duplicates\n",
    "    df_cleaned = df.drop_duplicates()\n",
    "    # Fill missing values with a placeholder or drop rows/columns with too many missing values\n",
    "    df_cleaned = df_cleaned.dropna(axis=0, how='any')  # Dropping rows with any missing value\n",
    "    return df_cleaned"
   ]
  },
  {
   "cell_type": "code",
   "execution_count": null,
   "metadata": {},
   "outputs": [],
   "source": [
    "calendar= clean_data(calendar_df)\n",
    "gps_data = clean_data(gps_data_df)\n",
    "roster = clean_data(roster_df)\n",
    "wellness = clean_data(wellness_df)"
   ]
  },
  {
   "cell_type": "code",
   "execution_count": null,
   "metadata": {},
   "outputs": [],
   "source": [
    "before_columns = {\n",
    "    \"calendar\": calendar_df.shape,\n",
    "    \"gps_data\": gps_data_df.shape,\n",
    "    \"roster\": roster_df.shape,\n",
    "    \"wellness\": wellness_df.shape\n",
    "}\n",
    "\n",
    "after_columns = {\n",
    "    \"calendar\": calendar.shape,\n",
    "    \"gps_data\": gps_data.shape,\n",
    "    \"roster\": roster.shape,\n",
    "    \"wellness\": wellness.shape\n",
    "}\n",
    "\n",
    "print(\"Columns before cleaning:\", before_columns)\n",
    "print(\"Columns after cleaning:\", after_columns)"
   ]
  },
  {
   "cell_type": "code",
   "execution_count": null,
   "metadata": {},
   "outputs": [],
   "source": [
    "# Check for date columns in each dataframe and convert them to datetime\n",
    "def convert_date_columns(df):\n",
    "    for column in df.columns:\n",
    "        # Only convert columns with strings in them, which could represent dates\n",
    "        if df[column].dtype == 'object' and pd.to_datetime(df[column], errors='coerce').notna().all():\n",
    "            df[column] = pd.to_datetime(df[column], errors='coerce')\n",
    "    return df\n",
    "\n",
    "# Convert date columns in all dataframes\n",
    "calendar = convert_date_columns(calendar)\n",
    "gps_data = convert_date_columns(gps_data)\n",
    "roster = convert_date_columns(roster)\n",
    "wellness = convert_date_columns(wellness)"
   ]
  },
  {
   "cell_type": "code",
   "execution_count": null,
   "metadata": {},
   "outputs": [],
   "source": [
    "calendar.dtypes"
   ]
  },
  {
   "cell_type": "code",
   "execution_count": null,
   "metadata": {},
   "outputs": [],
   "source": [
    "import matplotlib.pyplot as plt\n",
    "# Select numeric columns for the box plot\n",
    "numeric_columns_wellness = wellness.select_dtypes(include='number').columns\n",
    "\n",
    "# Create the box plot\n",
    "plt.figure(figsize=(10, 6))\n",
    "wellness[numeric_columns_wellness].boxplot()\n",
    "plt.title('Box Plot for Wellness Data - Detecting Outliers')\n",
    "plt.ylabel('Scores')\n",
    "plt.show()"
   ]
  },
  {
   "cell_type": "code",
   "execution_count": null,
   "metadata": {},
   "outputs": [],
   "source": [
    "# Select the relevant numeric columns for box plot\n",
    "selected_columns = [\n",
    "    'Session Time(mins)', 'Total Distance', 'Metres Per Minute', 'Distance Zone 1', 'Distance Zone 2',\n",
    "    'Distance Zone 3', 'Distance Zone 4', 'Distance Zone 5', 'Distance Zone 6', 'HSR per min',\n",
    "    'Average Speed', 'Maximum Speed', 'Number of Sprints', 'Number of Accelerations',\n",
    "    'Accelerations Zone 1', 'Accelerations Zone 2', 'Accelerations Zone 3', 'Accelerations Zone 4',\n",
    "    'Accelerations Zone 5', 'Accelerations Zone 6', 'Number of Decelerations', 'Decelerations Zone 1',\n",
    "    'Decelerations Zone 2', 'Decelerations Zone 3', 'Decelerations Zone 4', 'Decelerations Zone 5',\n",
    "    'Decelerations Zone 6', 'HML Distance', 'HML Distance Per Minute', 'Average Step Impact Left (g)',\n",
    "    'Average Step Impact Right (g)', 'Step Balance', 'HML Efforts', 'Explosive Distance'\n",
    "]\n",
    "\n",
    "# Create the box plot for the selected columns\n",
    "plt.figure(figsize=(15, 8))\n",
    "gps_data[selected_columns].boxplot()\n",
    "plt.title('Box Plot for GPS Data - Detecting Outliers')\n",
    "plt.ylabel('Values')\n",
    "plt.xticks(rotation=90)  # Rotate column names for better readability\n",
    "plt.tight_layout()  # Adjust layout for better presentation\n",
    "plt.show()\n"
   ]
  },
  {
   "cell_type": "code",
   "execution_count": null,
   "metadata": {},
   "outputs": [],
   "source": [
    "def remove_outliers(df, columns):\n",
    "    # For each column, calculate Q1, Q3, and IQR\n",
    "    for col in columns:\n",
    "        Q1 = df[col].quantile(0.25)\n",
    "        Q3 = df[col].quantile(0.75)\n",
    "        IQR = Q3 - Q1\n",
    "\n",
    "        # Define the outlier limits\n",
    "        lower_limit = Q1 - 1.5 * IQR\n",
    "        upper_limit = Q3 + 1.5 * IQR\n",
    "\n",
    "        # Remove rows where the column values are outside the limits\n",
    "        df = df[(df[col] >= lower_limit) & (df[col] <= upper_limit)]\n",
    "    \n",
    "    return df\n",
    "\n",
    "gps_data = remove_outliers(gps_data, selected_columns)"
   ]
  },
  {
   "cell_type": "code",
   "execution_count": null,
   "metadata": {},
   "outputs": [],
   "source": [
    "# Saving preprocessed dataframes as new CSV files\n",
    "calendar.to_csv('data/calendar_preprocessed.csv', index=False)\n",
    "gps_data.to_csv('data/gps_data_preprocessed.csv', index=False)\n",
    "roster.to_csv('data/roster_preprocessed.csv', index=False)\n",
    "wellness.to_csv('data/wellness_preprocessed.csv', index=False)\n",
    "\n",
    "print(\"Preprocessed files have been saved.\")\n"
   ]
  }
 ],
 "metadata": {
  "kernelspec": {
   "display_name": "base",
   "language": "python",
   "name": "python3"
  },
  "language_info": {
   "codemirror_mode": {
    "name": "ipython",
    "version": 3
   },
   "file_extension": ".py",
   "mimetype": "text/x-python",
   "name": "python",
   "nbconvert_exporter": "python",
   "pygments_lexer": "ipython3",
   "version": "3.12.3"
  }
 },
 "nbformat": 4,
 "nbformat_minor": 2
}
